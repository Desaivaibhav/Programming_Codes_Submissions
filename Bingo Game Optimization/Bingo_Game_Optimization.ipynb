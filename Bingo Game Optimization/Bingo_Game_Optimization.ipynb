{
 "cells": [
  {
   "cell_type": "markdown",
   "metadata": {},
   "source": [
    "#### Python Code:\n",
    "## To dynamically generate the best combination for range (1,20) of size 9"
   ]
  },
  {
   "cell_type": "code",
   "execution_count": 1,
   "metadata": {
    "collapsed": true
   },
   "outputs": [],
   "source": [
    "import pandas as pd\n",
    "import numpy as np\n",
    "import random\n",
    "import itertools as it"
   ]
  },
  {
   "cell_type": "code",
   "execution_count": 2,
   "metadata": {
    "collapsed": true
   },
   "outputs": [],
   "source": [
    "\n",
    "#check for BINGO\n",
    "def chkbingo(df):\n",
    "    i,j=df.shape\n",
    "    for m in range(i):\n",
    "        T=((df[m]==23).all())\n",
    "        if T==True:\n",
    "            return 1;\n",
    "    for n in range(j):\n",
    "        T=((df.loc[n]==23).all())\n",
    "        if T==True:\n",
    "            return 1;\n",
    "    s_diag1=(np.diag(d)).sum()\n",
    "    if s_diag1==(3*23):\n",
    "        return 1;\n",
    "    s_diag2=df.iloc[0,2]+df.iloc[1,1]+df.iloc[2,0]   \n",
    "    if s_diag2==(3*23):\n",
    "        return 1;"
   ]
  },
  {
   "cell_type": "markdown",
   "metadata": {},
   "source": [
    "### mark elemet which is multiple of sum of 2 rolled dice(randomly if more than 1)"
   ]
  },
  {
   "cell_type": "code",
   "execution_count": 3,
   "metadata": {
    "collapsed": true
   },
   "outputs": [],
   "source": [
    "def findcell(df,dice):\n",
    "    i,j=df.shape\n",
    "    y=0\n",
    "    randomlistchoice=[]\n",
    "    for m in range(i):\n",
    "        for n in range(j):\n",
    "            #print(d.iloc[m, n])\n",
    "            if df.iloc[m, n]%dice==0:\n",
    "                randomlistchoice.append([m,n])\n",
    "                \n",
    "    if not randomlistchoice:  \n",
    "        y=0\n",
    "        r=[0,0]\n",
    "    else:\n",
    "        y=1\n",
    "        r=random.choice(randomlistchoice)\n",
    "    return y,r"
   ]
  },
  {
   "cell_type": "markdown",
   "metadata": {},
   "source": [
    "### divide into chunks which makes it easy to create dataframe row by row(3x3)"
   ]
  },
  {
   "cell_type": "code",
   "execution_count": 4,
   "metadata": {
    "collapsed": true
   },
   "outputs": [],
   "source": [
    "def chunks(l, n):\n",
    "    # For item i in a range that is a length of l,\n",
    "    for i in range(0, len(l), n):\n",
    "        # Create an index range for l of n items:\n",
    "        yield l[i:i+n]"
   ]
  },
  {
   "cell_type": "code",
   "execution_count": 5,
   "metadata": {
    "collapsed": true
   },
   "outputs": [],
   "source": [
    "#listbingo = [1,2,3,4,5,6,7,8,9,10,11,12,13,14,15,16,17,18,19,20]\n",
    "#listbingo = [1,2,3,4,5,6,7,8,9]\n",
    "num=10000\n",
    "dictbing={}\n",
    "#number of games for turns\n",
    "sampling=50\n",
    "#thefile = open('test.txt', 'w')\n",
    "#lstcomb=list(it.product(listbingo, repeat=9))"
   ]
  },
  {
   "cell_type": "code",
   "execution_count": 6,
   "metadata": {
    "collapsed": true
   },
   "outputs": [],
   "source": [
    "#the range of numbers\n",
    "listbing = [1,2,3,4,5,6,7,8,9,10,11,12,13,14,15,16,17,18,19,20]\n",
    "#all combinations of size 9\n",
    "rem= it.product(listbing, repeat=9)"
   ]
  },
  {
   "cell_type": "code",
   "execution_count": null,
   "metadata": {},
   "outputs": [],
   "source": [
    "#for x in lstcomb:\n",
    "for x in rem:\n",
    "    x=list(chunks(x, 3))\n",
    "    d=pd.DataFrame(np.row_stack(x))\n",
    "    #print('first')\n",
    "    origd=d\n",
    "    #print(origd)\n",
    "    dfbing=x\n",
    "    #print(dfbing)\n",
    "    #print(n)\n",
    "    samples=[]\n",
    "    for sample in range(sampling):\n",
    "        n=0\n",
    "        d=pd.DataFrame(np.row_stack(x))\n",
    "        for k in range(num):\n",
    "            \n",
    "            n+=1\n",
    "   #dices rolled\n",
    "            first = random.randint(1, 6)\n",
    "            second = random.randint(1, 6)\n",
    "            roll =first+second\n",
    "            y,r=findcell(d,roll)\n",
    "            if y==1:\n",
    "                #replace the randomly selected position with 23 (first prime number after 20)\n",
    "                d.iloc[r[0],r[-1]]=23\n",
    "                v=chkbingo(d)\n",
    "                if v==1:\n",
    "                    \n",
    "                    #f=dfbing.values.tolist()\n",
    "                    samples.append(n)\n",
    "                    if sample==49:\n",
    "                        f=dfbing\n",
    "# take average of 50 games for BINGO\n",
    "                        avg=np.mean(samples)\n",
    "                        #thefile.write(\"{0},{1}\\n\".format(avg,f))\n",
    "                        #thefile.write(\"{0}\\n\".format(x))\n",
    "                        dictbing[avg]=f\n",
    "                    #n=0\n",
    "                    break;"
   ]
  },
  {
   "cell_type": "code",
   "execution_count": null,
   "metadata": {
    "collapsed": true
   },
   "outputs": [],
   "source": []
  }
 ],
 "metadata": {
  "kernelspec": {
   "display_name": "Python 3",
   "language": "python",
   "name": "python3"
  },
  "language_info": {
   "codemirror_mode": {
    "name": "ipython",
    "version": 3
   },
   "file_extension": ".py",
   "mimetype": "text/x-python",
   "name": "python",
   "nbconvert_exporter": "python",
   "pygments_lexer": "ipython3",
   "version": "3.6.3"
  }
 },
 "nbformat": 4,
 "nbformat_minor": 2
}
